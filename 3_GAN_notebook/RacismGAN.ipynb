{
 "cells": [
  {
   "cell_type": "code",
   "execution_count": null,
   "metadata": {
    "colab": {
     "base_uri": "https://localhost:8080/"
    },
    "executionInfo": {
     "elapsed": 8937,
     "status": "ok",
     "timestamp": 1746954086804,
     "user": {
      "displayName": "Ken Raymond",
      "userId": "11078504254932186434"
     },
     "user_tz": -120
    },
    "id": "mmRulPlAcRNP",
    "outputId": "4b065bd0-160e-4c1e-c4e5-83b7b6ff8c34"
   },
   "outputs": [],
   "source": [
    "# Imports for loading and preprocessing the data\n",
    "import random\n",
    "import numpy as np\n",
    "import pandas as pd\n",
    "from tqdm import tqdm  # show progress bar\n",
    "from nltk.tokenize import TweetTokenizer\n",
    "\n",
    "# TensorFlow \n",
    "import tensorflow as tf\n",
    "# Next line only for Colab\n",
    "# %tensorflow_version 2.x\n",
    "\n",
    "# Sklearn for dimensionality reduction\n",
    "from sklearn.decomposition import PCA\n",
    "from sklearn.manifold import TSNE\n",
    "\n",
    "# Bokeh for visualization\n",
    "from bokeh.plotting import figure, show\n",
    "from bokeh.models import ColumnDataSource, Title\n",
    "from bokeh.transform import factor_cmap\n",
    "from bokeh.palettes import Colorblind3"
   ]
  },
  {
   "cell_type": "code",
   "execution_count": null,
   "metadata": {},
   "outputs": [],
   "source": [
    "# dataset coming from 1_Preprocessing\n",
    "tweets = pd.read_pickle(\"path/New_Preprocessed_Dataset_GAN.pkl\")\n",
    "tweets = tweets[tweets['label'] == 'racism']"
   ]
  },
  {
   "cell_type": "code",
   "execution_count": 3,
   "metadata": {},
   "outputs": [
    {
     "name": "stdout",
     "output_type": "stream",
     "text": [
      "['wrong isis follows the example of mohammed and the quran exactly.', 'a good muslim is good despite his bad religion not because of it.', 'yeah its called caring about human life idiot something a genocidal isis would not understand.', 'you are a muslim. you are brain dead. you repeat what others have said a million times.', 'if you want to understand the lie of muslims living in peace with jews read ibn warraq']\n"
     ]
    }
   ],
   "source": [
    "# dataframe to list of sentences\n",
    "sentences = tweets['text'].tolist()\n",
    "print(sentences[:5])"
   ]
  },
  {
   "cell_type": "code",
   "execution_count": null,
   "metadata": {},
   "outputs": [],
   "source": [
    "# Apply nltk's tweettokenizer\n",
    "tweets_tokenized = [TweetTokenizer(preserve_case=False).tokenize(tweet) for tweet in sentences]"
   ]
  },
  {
   "cell_type": "code",
   "execution_count": null,
   "metadata": {},
   "outputs": [
    {
     "name": "stdout",
     "output_type": "stream",
     "text": [
      "Phrases initiales: 1965\n",
      "Phrases filtrées: 1822\n",
      "Phrases supprimées: 143\n",
      "Singletons problématiques: 167\n"
     ]
    }
   ],
   "source": [
    "from gensim.models import KeyedVectors\n",
    "from collections import defaultdict\n",
    "\n",
    "# 1. load full GloVe\n",
    "glove_path = \"path/glove.6B.200d.txt\"\n",
    "glove = KeyedVectors.load_word2vec_format(glove_path, no_header=True)\n",
    "\n",
    "# 2. detect singletons\n",
    "word_counts = defaultdict(int)\n",
    "for tweet in tweets_tokenized:\n",
    "    for word in tweet:\n",
    "        word_counts[word] += 1\n",
    "\n",
    "singletons = {word for word, count in word_counts.items() if count == 1}\n",
    "\n",
    "# 3. check if singletons are in GloVe\n",
    "missing_singletons = {word for word in singletons if word not in glove}\n",
    "\n",
    "# 4. filter tweets to remove those containing missing singletons\n",
    "filtered_tweets = [\n",
    "    tweet for tweet in tweets_tokenized\n",
    "    if not any(word in missing_singletons for word in tweet)\n",
    "]\n",
    "\n",
    "print(f\"Phrases initiales: {len(tweets_tokenized)}\")\n",
    "print(f\"Phrases filtrées: {len(filtered_tweets)}\")\n",
    "print(f\"Phrases supprimées: {len(tweets_tokenized) - len(filtered_tweets)}\")\n",
    "print(f\"Singletons problématiques: {len(missing_singletons)}\")"
   ]
  },
  {
   "cell_type": "code",
   "execution_count": 6,
   "metadata": {},
   "outputs": [],
   "source": [
    "tweets_tokenized = filtered_tweets"
   ]
  },
  {
   "cell_type": "code",
   "execution_count": 7,
   "metadata": {
    "executionInfo": {
     "elapsed": 67,
     "status": "ok",
     "timestamp": 1746976424816,
     "user": {
      "displayName": "Ken Raymond",
      "userId": "11078504254932186434"
     },
     "user_tz": -120
    },
    "id": "04UOqn2eeXzU"
   },
   "outputs": [],
   "source": [
    "# Set a seed to make results comparable\n",
    "random.seed(69)\n",
    "# Shuffle the dataset once, to obtain random train and test partitions later\n",
    "random.shuffle(tweets_tokenized)\n",
    "\n",
    "# Add start and end of sequence token to every tweet\n",
    "# and create the two datasets\n",
    "train_data = []\n",
    "word2vec_data = []\n",
    "\n",
    "for tweet in tweets_tokenized:\n",
    "  tweet.insert(len(tweet), \"<End>\")\n",
    "  tweet.insert(0, \"<Start>\")\n",
    "  train_data.append((tweet, tweet[1:], tweet[:-1]))\n",
    "  word2vec_data.append(tweet)"
   ]
  },
  {
   "cell_type": "code",
   "execution_count": 8,
   "metadata": {},
   "outputs": [
    {
     "name": "stdout",
     "output_type": "stream",
     "text": [
      "Longest Tweet has 35 tokens.\n"
     ]
    }
   ],
   "source": [
    "max_length = 0\n",
    "idx = 0\n",
    "for tweet in tweets_tokenized:\n",
    "  if len(tweet) > max_length:\n",
    "    max_length = len(tweet)\n",
    "\n",
    "print(f\"Longest Tweet has {max_length} tokens.\")"
   ]
  },
  {
   "cell_type": "code",
   "execution_count": 9,
   "metadata": {},
   "outputs": [],
   "source": [
    "all_tokens = set(token for tweet in tweets_tokenized for token in tweet)"
   ]
  },
  {
   "cell_type": "code",
   "execution_count": null,
   "metadata": {},
   "outputs": [],
   "source": [
    "def load_glove_subset(glove_file_path, allowed_tokens):\n",
    "    glove_model = {}\n",
    "    with open(glove_file_path, 'r', encoding='utf-8') as f:\n",
    "        for line in f:\n",
    "            split_line = line.split()\n",
    "            word = split_line[0]\n",
    "            if word in allowed_tokens:\n",
    "                embedding = np.array(split_line[1:], dtype=np.float64)\n",
    "                glove_model[word] = embedding\n",
    "    return glove_model\n",
    "\n",
    "glove_subset = load_glove_subset(\"path/glove.6B.200d.txt\", all_tokens)"
   ]
  },
  {
   "cell_type": "code",
   "execution_count": null,
   "metadata": {},
   "outputs": [],
   "source": [
    "# initialize a KeyedVectors model with the correct vector size\n",
    "model = KeyedVectors(vector_size=200)\n",
    "\n",
    "# add the loaded GloVe vectors to the model\n",
    "for token, vector in glove_subset.items():\n",
    "    model.add_vector(token, vector)\n",
    "\n",
    "print(f\"Vocab size of our glove model : {len(model.key_to_index)} / total vocab : {len(all_tokens)}\")\n",
    "\n",
    "# list to keep track of missing tokens\n",
    "missing_tokens = []\n",
    "\n",
    "# Add missing tokens with random vectors (such as the <Start>, <End>, and <user> tokens)\n",
    "for tweet in tweets_tokenized:\n",
    "    for token in tweet:\n",
    "        if token not in model.key_to_index:\n",
    "            model.add_vector(token, np.random.normal(scale=0.6, size=(model.vector_size,)))\n",
    "            missing_tokens.append(token)\n",
    "\n",
    "# display missing tokens\n",
    "print(f\"\\n{len(missing_tokens)} missing tokens added with random vectors:\\n\")\n",
    "print(sorted(set(missing_tokens)))"
   ]
  },
  {
   "cell_type": "code",
   "execution_count": 12,
   "metadata": {},
   "outputs": [
    {
     "data": {
      "text/plain": [
       "(3405, 200)"
      ]
     },
     "execution_count": 12,
     "metadata": {},
     "output_type": "execute_result"
    }
   ],
   "source": [
    "embedding_matrix = np.zeros((len(model.key_to_index), 200))\n",
    "for i in range(len(model.key_to_index)):\n",
    "    embedding_vector = model[model.index_to_key[i]]\n",
    "    if embedding_vector is not None:\n",
    "        embedding_matrix[i] = embedding_vector\n",
    "\n",
    "# Add a single row to shift the matrix to the right (since later we use 0 padding for our batches)\n",
    "embedding_matrix = np.insert(arr=embedding_matrix, obj=0, values=np.zeros(200), axis=0)\n",
    "\n",
    "embedding_matrix.shape"
   ]
  },
  {
   "cell_type": "code",
   "execution_count": 13,
   "metadata": {},
   "outputs": [
    {
     "name": "stdout",
     "output_type": "stream",
     "text": [
      "Vocab size of our word2vec model: 3404\n"
     ]
    }
   ],
   "source": [
    "vocab_size = len(model.key_to_index)\n",
    "print(f\"Vocab size of our word2vec model: {vocab_size}\")"
   ]
  },
  {
   "cell_type": "code",
   "execution_count": null,
   "metadata": {},
   "outputs": [],
   "source": [
    "# create a word2index dictionary and an embedding matrix\n",
    "word2index_dict = {}\n",
    "embedding_matrix = [np.zeros(200)]  \n",
    "\n",
    "for i, token in enumerate(model.key_to_index): \n",
    "    word2index_dict[token] = i + 1               # +1 car 0 = padding\n",
    "    embedding_matrix.append(model[token])       \n",
    "\n",
    "embedding_matrix = np.array(embedding_matrix)\n",
    "\n",
    "tweets2index_input = []\n",
    "tweets2index_target = []\n",
    "tweets2index_teacher_forcing = []\n",
    "\n",
    "for input_seq, target_seq, teacher_seq in train_data:\n",
    "    input = [word2index_dict[key] for key in input_seq]\n",
    "    target = [word2index_dict[key] for key in target_seq]\n",
    "    teacher = [word2index_dict[key] for key in teacher_seq]\n",
    "\n",
    "    tweets2index_input.append(input)\n",
    "    tweets2index_target.append(target)\n",
    "    tweets2index_teacher_forcing.append(teacher)"
   ]
  },
  {
   "cell_type": "code",
   "execution_count": 15,
   "metadata": {},
   "outputs": [
    {
     "name": "stdout",
     "output_type": "stream",
     "text": [
      "[3400, 856, 3, 6, 82, 4, 85, 29, 21, 122, 119, 597, 3, 6, 38, 3166, 1039, 38, 670, 1825, 20, 2335, 3, 3401]\n",
      "[3400, 856, 3, 6, 82, 4, 85, 29, 21, 122, 119, 597, 3, 6, 38, 3166, 1039, 38, 670, 1825, 20, 2335, 3]\n",
      "[856, 3, 6, 82, 4, 85, 29, 21, 122, 119, 597, 3, 6, 38, 3166, 1039, 38, 670, 1825, 20, 2335, 3, 3401]\n"
     ]
    }
   ],
   "source": [
    "print(tweets2index_input[0])\n",
    "print(tweets2index_teacher_forcing[0])\n",
    "print(tweets2index_target[0])"
   ]
  },
  {
   "cell_type": "code",
   "execution_count": null,
   "metadata": {},
   "outputs": [],
   "source": [
    "train_split = 0.9  # 90 train / 10 test was best for our model\n",
    "\n",
    "batch_size = 32\n",
    "\n",
    "train_size = int(len(tweets2index_input) * train_split)\n",
    "\n",
    "# training data\n",
    "train_ragged_dataset_input = tf.ragged.constant(tweets2index_input[:train_size])\n",
    "train_ragged_dataset_target = tf.ragged.constant(tweets2index_target[:train_size])\n",
    "train_ragged_dataset_teacher = tf.ragged.constant(tweets2index_teacher_forcing[:train_size])\n",
    "\n",
    "train_dataset_input = tf.data.Dataset.from_tensor_slices(train_ragged_dataset_input)\n",
    "train_dataset_target = tf.data.Dataset.from_tensor_slices(train_ragged_dataset_target)\n",
    "train_dataset_teacher = tf.data.Dataset.from_tensor_slices(train_ragged_dataset_teacher)\n",
    "\n",
    "train_dataset_input = train_dataset_input.map(lambda x: x)\n",
    "train_dataset_target = train_dataset_target.map(lambda x: x)\n",
    "train_dataset_teacher = train_dataset_teacher.map(lambda x: x)\n",
    "\n",
    "# training dataset\n",
    "train_dataset = tf.data.Dataset.zip((train_dataset_input, train_dataset_target, train_dataset_teacher))\n",
    "\n",
    "train_dataset = (train_dataset\n",
    "                .cache()\n",
    "                .shuffle(buffer_size=10000, reshuffle_each_iteration=True)  # Buffer plus grand\n",
    "                .padded_batch(batch_size)  # Batch plus petit\n",
    "                .prefetch(tf.data.experimental.AUTOTUNE))\n",
    "\n",
    "# test data\n",
    "test_ragged_dataset_input = tf.ragged.constant(tweets2index_input[train_size:])\n",
    "test_ragged_dataset_target = tf.ragged.constant(tweets2index_target[train_size:])\n",
    "test_ragged_dataset_teacher = tf.ragged.constant(tweets2index_teacher_forcing[train_size:])\n",
    "\n",
    "test_dataset_input = tf.data.Dataset.from_tensor_slices(test_ragged_dataset_input)\n",
    "test_dataset_target = tf.data.Dataset.from_tensor_slices(test_ragged_dataset_target)\n",
    "test_dataset_teacher = tf.data.Dataset.from_tensor_slices(test_ragged_dataset_teacher)\n",
    "\n",
    "test_dataset_input = test_dataset_input.map(lambda x: x)\n",
    "test_dataset_target = test_dataset_target.map(lambda x: x)\n",
    "test_dataset_teacher = test_dataset_teacher.map(lambda x: x)\n",
    "\n",
    "# test dataset\n",
    "test_dataset = (tf.data.Dataset.zip((test_dataset_input, test_dataset_target, test_dataset_teacher))\n",
    "                .cache()\n",
    "                .padded_batch(batch_size)\n",
    "                .prefetch(tf.data.experimental.AUTOTUNE))"
   ]
  },
  {
   "cell_type": "code",
   "execution_count": null,
   "metadata": {
    "executionInfo": {
     "elapsed": 724,
     "status": "ok",
     "timestamp": 1746976437047,
     "user": {
      "displayName": "Ken Raymond",
      "userId": "11078504254932186434"
     },
     "user_tz": -120
    },
    "id": "UrafzZkkemWd"
   },
   "outputs": [],
   "source": [
    "import sys\n",
    "sys.path.append('path/Modules/racism')\n",
    "\n",
    "import racism_ae as ae\n",
    "import racism_ae_training as ae_training"
   ]
  },
  {
   "cell_type": "code",
   "execution_count": 18,
   "metadata": {
    "executionInfo": {
     "elapsed": 850,
     "status": "ok",
     "timestamp": 1746976437899,
     "user": {
      "displayName": "Ken Raymond",
      "userId": "11078504254932186434"
     },
     "user_tz": -120
    },
    "id": "kDmhae1Ge2sp"
   },
   "outputs": [],
   "source": [
    "TwitterAE = ae.AutoEncoder(vocab_size=vocab_size, embedding_matrix=embedding_matrix)"
   ]
  },
  {
   "cell_type": "code",
   "execution_count": null,
   "metadata": {},
   "outputs": [],
   "source": [
    "# Train the model\n",
    "\n",
    "ae_training.trainModel(model=TwitterAE, word2vec_model=model, train_dataset=train_dataset, test_dataset=test_dataset, loss_function=tf.keras.losses.SparseCategoricalCrossentropy(), num_epochs=150, early_stopping_patience=100, lr_reduce_factor=0.95)"
   ]
  },
  {
   "cell_type": "code",
   "execution_count": null,
   "metadata": {
    "executionInfo": {
     "elapsed": 1790,
     "status": "ok",
     "timestamp": 1746977561780,
     "user": {
      "displayName": "Ken Raymond",
      "userId": "11078504254932186434"
     },
     "user_tz": -120
    },
    "id": "WMlfROzZNiuN"
   },
   "outputs": [],
   "source": [
    "# if you want to load weights from a previous training\n",
    "\n",
    "sequence_length = 200\n",
    "dummy_input = np.random.randint(0, vocab_size, (1, sequence_length))\n",
    "dummy_teacher = np.random.randint(0, vocab_size, (1, sequence_length))\n",
    "\n",
    "# Dummy pass to build the model (initialize weights)\n",
    "_ = TwitterAE(dummy_input, dummy_teacher, training=False)"
   ]
  },
  {
   "cell_type": "code",
   "execution_count": null,
   "metadata": {
    "executionInfo": {
     "elapsed": 55,
     "status": "ok",
     "timestamp": 1746977562545,
     "user": {
      "displayName": "Ken Raymond",
      "userId": "11078504254932186434"
     },
     "user_tz": -120
    },
    "id": "-gwLfQn3AQE3"
   },
   "outputs": [],
   "source": [
    "TwitterAE.load_weights(\"path/AE_Weights/racism_ae_weights.weights.h5\")"
   ]
  },
  {
   "cell_type": "code",
   "execution_count": 21,
   "metadata": {
    "colab": {
     "base_uri": "https://localhost:8080/",
     "height": 193
    },
    "executionInfo": {
     "elapsed": 10,
     "status": "ok",
     "timestamp": 1746091912325,
     "user": {
      "displayName": "Ken Raymond",
      "userId": "11078504254932186434"
     },
     "user_tz": -120
    },
    "id": "k9wdeK9dQ9Ml",
    "outputId": "16feec1d-ee9a-4e0c-feda-5feddd6e13f4"
   },
   "outputs": [
    {
     "data": {
      "text/html": [
       "<pre style=\"white-space:pre;overflow-x:auto;line-height:normal;font-family:Menlo,'DejaVu Sans Mono',consolas,'Courier New',monospace\"><span style=\"font-weight: bold\">Model: \"auto_encoder\"</span>\n",
       "</pre>\n"
      ],
      "text/plain": [
       "\u001b[1mModel: \"auto_encoder\"\u001b[0m\n"
      ]
     },
     "metadata": {},
     "output_type": "display_data"
    },
    {
     "data": {
      "text/html": [
       "<pre style=\"white-space:pre;overflow-x:auto;line-height:normal;font-family:Menlo,'DejaVu Sans Mono',consolas,'Courier New',monospace\">┏━━━━━━━━━━━━━━━━━━━━━━━━━━━━━━━━━┳━━━━━━━━━━━━━━━━━━━━━━━━┳━━━━━━━━━━━━━━━┓\n",
       "┃<span style=\"font-weight: bold\"> Layer (type)                    </span>┃<span style=\"font-weight: bold\"> Output Shape           </span>┃<span style=\"font-weight: bold\">       Param # </span>┃\n",
       "┡━━━━━━━━━━━━━━━━━━━━━━━━━━━━━━━━━╇━━━━━━━━━━━━━━━━━━━━━━━━╇━━━━━━━━━━━━━━━┩\n",
       "│ encoder (<span style=\"color: #0087ff; text-decoration-color: #0087ff\">Encoder</span>)               │ ?                      │       <span style=\"color: #00af00; text-decoration-color: #00af00\">862,200</span> │\n",
       "├─────────────────────────────────┼────────────────────────┼───────────────┤\n",
       "│ decoder (<span style=\"color: #0087ff; text-decoration-color: #0087ff\">Decoder</span>)               │ ?                      │     <span style=\"color: #00af00; text-decoration-color: #00af00\">4,649,805</span> │\n",
       "└─────────────────────────────────┴────────────────────────┴───────────────┘\n",
       "</pre>\n"
      ],
      "text/plain": [
       "┏━━━━━━━━━━━━━━━━━━━━━━━━━━━━━━━━━┳━━━━━━━━━━━━━━━━━━━━━━━━┳━━━━━━━━━━━━━━━┓\n",
       "┃\u001b[1m \u001b[0m\u001b[1mLayer (type)                   \u001b[0m\u001b[1m \u001b[0m┃\u001b[1m \u001b[0m\u001b[1mOutput Shape          \u001b[0m\u001b[1m \u001b[0m┃\u001b[1m \u001b[0m\u001b[1m      Param #\u001b[0m\u001b[1m \u001b[0m┃\n",
       "┡━━━━━━━━━━━━━━━━━━━━━━━━━━━━━━━━━╇━━━━━━━━━━━━━━━━━━━━━━━━╇━━━━━━━━━━━━━━━┩\n",
       "│ encoder (\u001b[38;5;33mEncoder\u001b[0m)               │ ?                      │       \u001b[38;5;34m862,200\u001b[0m │\n",
       "├─────────────────────────────────┼────────────────────────┼───────────────┤\n",
       "│ decoder (\u001b[38;5;33mDecoder\u001b[0m)               │ ?                      │     \u001b[38;5;34m4,649,805\u001b[0m │\n",
       "└─────────────────────────────────┴────────────────────────┴───────────────┘\n"
      ]
     },
     "metadata": {},
     "output_type": "display_data"
    },
    {
     "data": {
      "text/html": [
       "<pre style=\"white-space:pre;overflow-x:auto;line-height:normal;font-family:Menlo,'DejaVu Sans Mono',consolas,'Courier New',monospace\"><span style=\"font-weight: bold\"> Total params: </span><span style=\"color: #00af00; text-decoration-color: #00af00\">5,512,005</span> (21.03 MB)\n",
       "</pre>\n"
      ],
      "text/plain": [
       "\u001b[1m Total params: \u001b[0m\u001b[38;5;34m5,512,005\u001b[0m (21.03 MB)\n"
      ]
     },
     "metadata": {},
     "output_type": "display_data"
    },
    {
     "data": {
      "text/html": [
       "<pre style=\"white-space:pre;overflow-x:auto;line-height:normal;font-family:Menlo,'DejaVu Sans Mono',consolas,'Courier New',monospace\"><span style=\"font-weight: bold\"> Trainable params: </span><span style=\"color: #00af00; text-decoration-color: #00af00\">4,150,005</span> (15.83 MB)\n",
       "</pre>\n"
      ],
      "text/plain": [
       "\u001b[1m Trainable params: \u001b[0m\u001b[38;5;34m4,150,005\u001b[0m (15.83 MB)\n"
      ]
     },
     "metadata": {},
     "output_type": "display_data"
    },
    {
     "data": {
      "text/html": [
       "<pre style=\"white-space:pre;overflow-x:auto;line-height:normal;font-family:Menlo,'DejaVu Sans Mono',consolas,'Courier New',monospace\"><span style=\"font-weight: bold\"> Non-trainable params: </span><span style=\"color: #00af00; text-decoration-color: #00af00\">1,362,000</span> (5.20 MB)\n",
       "</pre>\n"
      ],
      "text/plain": [
       "\u001b[1m Non-trainable params: \u001b[0m\u001b[38;5;34m1,362,000\u001b[0m (5.20 MB)\n"
      ]
     },
     "metadata": {},
     "output_type": "display_data"
    }
   ],
   "source": [
    "TwitterAE.summary()"
   ]
  },
  {
   "cell_type": "code",
   "execution_count": null,
   "metadata": {},
   "outputs": [
    {
     "name": "stdout",
     "output_type": "stream",
     "text": [
      "islam is a religion of hate . <End>\n"
     ]
    }
   ],
   "source": [
    "# test of inference mode\n",
    "test_sentence = \"islam is not a religion of peace\"\n",
    "tokens = TweetTokenizer(preserve_case=False).tokenize(test_sentence)\n",
    "tokens = [\"<Start>\"] + tokens + [\"<End>\"]\n",
    "\n",
    "indices = [word2index_dict.get(tok, 0) for tok in tokens] \n",
    "\n",
    "input_tensor = tf.constant([indices])  # batch size 1\n",
    "latent = TwitterAE.Encoder(input_tensor, training=False)\n",
    "\n",
    "decoded_indices = TwitterAE.Decoder.inference_mode(states=latent, training=False)\n",
    "\n",
    "decoded_tokens = [model.index_to_key[i.numpy()[0] - 1] for i in decoded_indices if i.numpy()[0] != 0]\n",
    "print(\" \".join(decoded_tokens))"
   ]
  },
  {
   "cell_type": "markdown",
   "metadata": {
    "id": "h6XbgOAfLUOm"
   },
   "source": [
    "### Gan"
   ]
  },
  {
   "cell_type": "code",
   "execution_count": 23,
   "metadata": {
    "executionInfo": {
     "elapsed": 65,
     "status": "ok",
     "timestamp": 1746969250845,
     "user": {
      "displayName": "Ken Raymond",
      "userId": "11078504254932186434"
     },
     "user_tz": -120
    },
    "id": "WBuvjmSrLO4a"
   },
   "outputs": [],
   "source": [
    "train_dataset_GAN = train_dataset_input\n",
    "train_dataset_GAN = train_dataset_input.map(lambda x: tf.squeeze(TwitterAE.Encoder(tf.expand_dims(x, axis=0)), axis=0))\n",
    "train_dataset_GAN = train_dataset_GAN.cache().batch(50).prefetch(tf.data.experimental.AUTOTUNE)"
   ]
  },
  {
   "cell_type": "code",
   "execution_count": 24,
   "metadata": {
    "executionInfo": {
     "elapsed": 831,
     "status": "ok",
     "timestamp": 1746969329770,
     "user": {
      "displayName": "Ken Raymond",
      "userId": "11078504254932186434"
     },
     "user_tz": -120
    },
    "id": "9RLm4TGfLOvl"
   },
   "outputs": [],
   "source": [
    "import racism_latextgan as latextgan\n",
    "import racism_latextgan_training as latextgan_training"
   ]
  },
  {
   "cell_type": "code",
   "execution_count": null,
   "metadata": {},
   "outputs": [],
   "source": [
    "# Initialize your models\n",
    "LaTextGAN_Generator = latextgan.Generator() \n",
    "LaTextGAN_Discriminator = latextgan.Discriminator() "
   ]
  },
  {
   "cell_type": "code",
   "execution_count": null,
   "metadata": {
    "colab": {
     "base_uri": "https://localhost:8080/",
     "height": 690
    },
    "executionInfo": {
     "elapsed": 612029,
     "status": "ok",
     "timestamp": 1746969943645,
     "user": {
      "displayName": "Ken Raymond",
      "userId": "11078504254932186434"
     },
     "user_tz": -120
    },
    "id": "gI2ZKHtVLOXG",
    "outputId": "82e90265-1908-4c53-d0fe-37b3ef2ee7a7"
   },
   "outputs": [
    {
     "name": "stdout",
     "output_type": "stream",
     "text": [
      "\n",
      "From Fixed Vector: and muslims are expected to fear their religion by islam . but we are always about islam than . <End>\n",
      "From Fixed Vector: islam is a strong supporter of murdering non muslims . isis is a strong supporter of non <End>\n",
      "\n",
      "From Random Vector: islam is a pile of hatred murder bigotry sexism and sexism is islam . <End>\n",
      "From Random Vector: islam is a pile of manure for murder unbelievers . isis does your prophet ! . <End>\n"
     ]
    },
    {
     "data": {
      "image/png": "[encoded data removed]",
      "text/plain": [
       "<Figure size 1000x600 with 1 Axes>"
      ]
     },
     "metadata": {},
     "output_type": "display_data"
    },
    {
     "name": "stdout",
     "output_type": "stream",
     "text": [
      "Time: 3.23s\n"
     ]
    }
   ],
   "source": [
    "# Create the trainer instance\n",
    "trainer = latextgan_training.GANTrainer(\n",
    "    generator=LaTextGAN_Generator,\n",
    "    discriminator=LaTextGAN_Discriminator,\n",
    "    autoencoder=TwitterAE,\n",
    "    word2vec_model=model\n",
    ")\n",
    "\n",
    "# Train the model\n",
    "trainer.train(\n",
    "    dataset=train_dataset_GAN,\n",
    "    epochs=80, \n",
    "    lr=0.0001, # learning rate\n",
    "    d_steps=3  # Number of discriminator steps per generator step\n",
    ")"
   ]
  },
  {
   "cell_type": "code",
   "execution_count": 27,
   "metadata": {
    "executionInfo": {
     "elapsed": 677,
     "status": "ok",
     "timestamp": 1746969970624,
     "user": {
      "displayName": "Ken Raymond",
      "userId": "11078504254932186434"
     },
     "user_tz": -120
    },
    "id": "fz_uli7OX6mY"
   },
   "outputs": [
    {
     "data": {
      "text/html": [
       "    <style>\n",
       "        .bk-notebook-logo {\n",
       "            display: block;\n",
       "            width: 20px;\n",
       "            height: 20px;\n",
       "            background-image: url(data:image/png;base64,iVBORw0KGgoAAAANSUhEUgAAABQAAAAUCAYAAACNiR0NAAAABHNCSVQICAgIfAhkiAAAAAlwSFlzAAALEgAACxIB0t1+/AAAABx0RVh0U29mdHdhcmUAQWRvYmUgRmlyZXdvcmtzIENTNui8sowAAAOkSURBVDiNjZRtaJVlGMd/1/08zzln5zjP1LWcU9N0NkN8m2CYjpgQYQXqSs0I84OLIC0hkEKoPtiH3gmKoiJDU7QpLgoLjLIQCpEsNJ1vqUOdO7ppbuec5+V+rj4ctwzd8IIbbi6u+8f1539dt3A78eXC7QizUF7gyV1fD1Yqg4JWz84yffhm0qkFqBogB9rM8tZdtwVsPUhWhGcFJngGeWrPzHm5oaMmkfEg1usvLFyc8jLRqDOMru7AyC8saQr7GG7f5fvDeH7Ej8CM66nIF+8yngt6HWaKh7k49Soy9nXurCi1o3qUbS3zWfrYeQDTB/Qj6kX6Ybhw4B+bOYoLKCC9H3Nu/leUTZ1JdRWkkn2ldcCamzrcf47KKXdAJllSlxAOkRgyHsGC/zRday5Qld9DyoM4/q/rUoy/CXh3jzOu3bHUVZeU+DEn8FInkPBFlu3+nW3Nw0mk6vCDiWg8CeJaxEwuHS3+z5RgY+YBR6V1Z1nxSOfoaPa4LASWxxdNp+VWTk7+4vzaou8v8PN+xo+KY2xsw6une2frhw05CTYOmQvsEhjhWjn0bmXPjpE1+kplmmkP3suftwTubK9Vq22qKmrBhpY4jvd5afdRA3wGjFAgcnTK2s4hY0/GPNIb0nErGMCRxWOOX64Z8RAC4oCXdklmEvcL8o0BfkNK4lUg9HTl+oPlQxdNo3Mg4Nv175e/1LDGzZen30MEjRUtmXSfiTVu1kK8W4txyV6BMKlbgk3lMwYCiusNy9fVfvvwMxv8Ynl6vxoByANLTWplvuj/nF9m2+PDtt1eiHPBr1oIfhCChQMBw6Aw0UulqTKZdfVvfG7VcfIqLG9bcldL/+pdWTLxLUy8Qq38heUIjh4XlzZxzQm19lLFlr8vdQ97rjZVOLf8nclzckbcD4wxXMidpX30sFd37Fv/GtwwhzhxGVAprjbg0gCAEeIgwCZyTV2Z1REEW8O4py0wsjeloKoMr6iCY6dP92H6Vw/oTyICIthibxjm/DfN9lVz8IqtqKYLUXfoKVMVQVVJOElGjrnnUt9T9wbgp8AyYKaGlqingHZU/uG2NTZSVqwHQTWkx9hxjkpWDaCg6Ckj5qebgBVbT3V3NNXMSiWSDdGV3hrtzla7J+duwPOToIg42ChPQOQjspnSlp1V+Gjdged7+8UN5CRAV7a5EdFNwCjEaBR27b3W890TE7g24NAP/mMDXRWrGoFPQI9ls/MWO2dWFAar/xcOIImbbpA3zgAAAABJRU5ErkJggg==);\n",
       "        }\n",
       "    </style>\n",
       "    <div>\n",
       "        <a href=\"https://bokeh.org\" target=\"_blank\" class=\"bk-notebook-logo\"></a>\n",
       "        <span id=\"da941f1b-4135-4bf2-85da-a261d4d6c68d\">Loading BokehJS ...</span>\n",
       "    </div>\n"
      ]
     },
     "metadata": {},
     "output_type": "display_data"
    },
    {
     "data": {
      "application/javascript": "'use strict';\n(function(root) {\n  function now() {\n    return new Date();\n  }\n\n  const force = true;\n\n  if (typeof root._bokeh_onload_callbacks === \"undefined\" || force === true) {\n    root._bokeh_onload_callbacks = [];\n    root._bokeh_is_loading = undefined;\n  }\n\nconst JS_MIME_TYPE = 'application/javascript';\n  const HTML_MIME_TYPE = 'text/html';\n  const EXEC_MIME_TYPE = 'application/vnd.bokehjs_exec.v0+json';\n  const CLASS_NAME = 'output_bokeh rendered_html';\n\n  /**\n   * Render data to the DOM node\n   */\n  function render(props, node) {\n    const script = document.createElement(\"script\");\n    node.appendChild(script);\n  }\n\n  /**\n   * Handle when an output is cleared or removed\n   */\n  function handleClearOutput(event, handle) {\n    function drop(id) {\n      const view = Bokeh.index.get_by_id(id)\n      if (view != null) {\n        view.model.document.clear()\n        Bokeh.index.delete(view)\n      }\n    }\n\n    const cell = handle.cell;\n\n    const id = cell.output_area._bokeh_element_id;\n    const server_id = cell.output_area._bokeh_server_id;\n\n    // Clean up Bokeh references\n    if (id != null) {\n      drop(id)\n    }\n\n    if (server_id !== undefined) {\n      // Clean up Bokeh references\n      const cmd_clean = \"from bokeh.io.state import curstate; print(curstate().uuid_to_server['\" + server_id + \"'].get_sessions()[0].document.roots[0]._id)\";\n      cell.notebook.kernel.execute(cmd_clean, {\n        iopub: {\n          output: function(msg) {\n            const id = msg.content.text.trim()\n            drop(id)\n          }\n        }\n      });\n      // Destroy server and session\n      const cmd_destroy = \"import bokeh.io.notebook as ion; ion.destroy_server('\" + server_id + \"')\";\n      cell.notebook.kernel.execute(cmd_destroy);\n    }\n  }\n\n  /**\n   * Handle when a new output is added\n   */\n  function handleAddOutput(event, handle) {\n    const output_area = handle.output_area;\n    const output = handle.output;\n\n    // limit handleAddOutput to display_data with EXEC_MIME_TYPE content only\n    if ((output.output_type != \"display_data\") || (!Object.prototype.hasOwnProperty.call(output.data, EXEC_MIME_TYPE))) {\n      return\n    }\n\n    const toinsert = output_area.element.find(\".\" + CLASS_NAME.split(' ')[0]);\n\n    if (output.metadata[EXEC_MIME_TYPE][\"id\"] !== undefined) {\n      toinsert[toinsert.length - 1].firstChild.textContent = output.data[JS_MIME_TYPE];\n      // store reference to embed id on output_area\n      output_area._bokeh_element_id = output.metadata[EXEC_MIME_TYPE][\"id\"];\n    }\n    if (output.metadata[EXEC_MIME_TYPE][\"server_id\"] !== undefined) {\n      const bk_div = document.createElement(\"div\");\n      bk_div.innerHTML = output.data[HTML_MIME_TYPE];\n      const script_attrs = bk_div.children[0].attributes;\n      for (let i = 0; i < script_attrs.length; i++) {\n        toinsert[toinsert.length - 1].firstChild.setAttribute(script_attrs[i].name, script_attrs[i].value);\n        toinsert[toinsert.length - 1].firstChild.textContent = bk_div.children[0].textContent\n      }\n      // store reference to server id on output_area\n      output_area._bokeh_server_id = output.metadata[EXEC_MIME_TYPE][\"server_id\"];\n    }\n  }\n\n  function register_renderer(events, OutputArea) {\n\n    function append_mime(data, metadata, element) {\n      // create a DOM node to render to\n      const toinsert = this.create_output_subarea(\n        metadata,\n        CLASS_NAME,\n        EXEC_MIME_TYPE\n      );\n      this.keyboard_manager.register_events(toinsert);\n      // Render to node\n      const props = {data: data, metadata: metadata[EXEC_MIME_TYPE]};\n      render(props, toinsert[toinsert.length - 1]);\n      element.append(toinsert);\n      return toinsert\n    }\n\n    /* Handle when an output is cleared or removed */\n    events.on('clear_output.CodeCell', handleClearOutput);\n    events.on('delete.Cell', handleClearOutput);\n\n    /* Handle when a new output is added */\n    events.on('output_added.OutputArea', handleAddOutput);\n\n    /**\n     * Register the mime type and append_mime function with output_area\n     */\n    OutputArea.prototype.register_mime_type(EXEC_MIME_TYPE, append_mime, {\n      /* Is output safe? */\n      safe: true,\n      /* Index of renderer in `output_area.display_order` */\n      index: 0\n    });\n  }\n\n  // register the mime type if in Jupyter Notebook environment and previously unregistered\n  if (root.Jupyter !== undefined) {\n    const events = require('base/js/events');\n    const OutputArea = require('notebook/js/outputarea').OutputArea;\n\n    if (OutputArea.prototype.mime_types().indexOf(EXEC_MIME_TYPE) == -1) {\n      register_renderer(events, OutputArea);\n    }\n  }\n  if (typeof (root._bokeh_timeout) === \"undefined\" || force === true) {\n    root._bokeh_timeout = Date.now() + 5000;\n    root._bokeh_failed_load = false;\n  }\n\n  const NB_LOAD_WARNING = {'data': {'text/html':\n     \"<div style='background-color: #fdd'>\\n\"+\n     \"<p>\\n\"+\n     \"BokehJS does not appear to have successfully loaded. If loading BokehJS from CDN, this \\n\"+\n     \"may be due to a slow or bad network connection. Possible fixes:\\n\"+\n     \"</p>\\n\"+\n     \"<ul>\\n\"+\n     \"<li>re-rerun `output_notebook()` to attempt to load from CDN again, or</li>\\n\"+\n     \"<li>use INLINE resources instead, as so:</li>\\n\"+\n     \"</ul>\\n\"+\n     \"<code>\\n\"+\n     \"from bokeh.resources import INLINE\\n\"+\n     \"output_notebook(resources=INLINE)\\n\"+\n     \"</code>\\n\"+\n     \"</div>\"}};\n\n  function display_loaded(error = null) {\n    const el = document.getElementById(\"da941f1b-4135-4bf2-85da-a261d4d6c68d\");\n    if (el != null) {\n      const html = (() => {\n        if (typeof root.Bokeh === \"undefined\") {\n          if (error == null) {\n            return \"BokehJS is loading ...\";\n          } else {\n            return \"BokehJS failed to load.\";\n          }\n        } else {\n          const prefix = `BokehJS ${root.Bokeh.version}`;\n          if (error == null) {\n            return `${prefix} successfully loaded.`;\n          } else {\n            return `${prefix} <b>encountered errors</b> while loading and may not function as expected.`;\n          }\n        }\n      })();\n      el.innerHTML = html;\n\n      if (error != null) {\n        const wrapper = document.createElement(\"div\");\n        wrapper.style.overflow = \"auto\";\n        wrapper.style.height = \"5em\";\n        wrapper.style.resize = \"vertical\";\n        const content = document.createElement(\"div\");\n        content.style.fontFamily = \"monospace\";\n        content.style.whiteSpace = \"pre-wrap\";\n        content.style.backgroundColor = \"rgb(255, 221, 221)\";\n        content.textContent = error.stack ?? error.toString();\n        wrapper.append(content);\n        el.append(wrapper);\n      }\n    } else if (Date.now() < root._bokeh_timeout) {\n      setTimeout(() => display_loaded(error), 100);\n    }\n  }\n\n  function run_callbacks() {\n    try {\n      root._bokeh_onload_callbacks.forEach(function(callback) {\n        if (callback != null)\n          callback();\n      });\n    } finally {\n      delete root._bokeh_onload_callbacks\n    }\n    console.debug(\"Bokeh: all callbacks have finished\");\n  }\n\n  function load_libs(css_urls, js_urls, callback) {\n    if (css_urls == null) css_urls = [];\n    if (js_urls == null) js_urls = [];\n\n    root._bokeh_onload_callbacks.push(callback);\n    if (root._bokeh_is_loading > 0) {\n      console.debug(\"Bokeh: BokehJS is being loaded, scheduling callback at\", now());\n      return null;\n    }\n    if (js_urls == null || js_urls.length === 0) {\n      run_callbacks();\n      return null;\n    }\n    console.debug(\"Bokeh: BokehJS not loaded, scheduling load and callback at\", now());\n    root._bokeh_is_loading = css_urls.length + js_urls.length;\n\n    function on_load() {\n      root._bokeh_is_loading--;\n      if (root._bokeh_is_loading === 0) {\n        console.debug(\"Bokeh: all BokehJS libraries/stylesheets loaded\");\n        run_callbacks()\n      }\n    }\n\n    function on_error(url) {\n      console.error(\"failed to load \" + url);\n    }\n\n    for (let i = 0; i < css_urls.length; i++) {\n      const url = css_urls[i];\n      const element = document.createElement(\"link\");\n      element.onload = on_load;\n      element.onerror = on_error.bind(null, url);\n      element.rel = \"stylesheet\";\n      element.type = \"text/css\";\n      element.href = url;\n      console.debug(\"Bokeh: injecting link tag for BokehJS stylesheet: \", url);\n      document.body.appendChild(element);\n    }\n\n    for (let i = 0; i < js_urls.length; i++) {\n      const url = js_urls[i];\n      const element = document.createElement('script');\n      element.onload = on_load;\n      element.onerror = on_error.bind(null, url);\n      element.async = false;\n      element.src = url;\n      console.debug(\"Bokeh: injecting script tag for BokehJS library: \", url);\n      document.head.appendChild(element);\n    }\n  };\n\n  function inject_raw_css(css) {\n    const element = document.createElement(\"style\");\n    element.appendChild(document.createTextNode(css));\n    document.body.appendChild(element);\n  }\n\n  const js_urls = [\"https://cdn.bokeh.org/bokeh/release/bokeh-3.7.2.min.js\", \"https://cdn.bokeh.org/bokeh/release/bokeh-gl-3.7.2.min.js\", \"https://cdn.bokeh.org/bokeh/release/bokeh-widgets-3.7.2.min.js\", \"https://cdn.bokeh.org/bokeh/release/bokeh-tables-3.7.2.min.js\", \"https://cdn.bokeh.org/bokeh/release/bokeh-mathjax-3.7.2.min.js\"];\n  const css_urls = [];\n\n  const inline_js = [    function(Bokeh) {\n      Bokeh.set_log_level(\"info\");\n    },\nfunction(Bokeh) {\n    }\n  ];\n\n  function run_inline_js() {\n    if (root.Bokeh !== undefined || force === true) {\n      try {\n            for (let i = 0; i < inline_js.length; i++) {\n      inline_js[i].call(root, root.Bokeh);\n    }\n\n      } catch (error) {display_loaded(error);throw error;\n      }if (force === true) {\n        display_loaded();\n      }} else if (Date.now() < root._bokeh_timeout) {\n      setTimeout(run_inline_js, 100);\n    } else if (!root._bokeh_failed_load) {\n      console.log(\"Bokeh: BokehJS failed to load within specified timeout.\");\n      root._bokeh_failed_load = true;\n    } else if (force !== true) {\n      const cell = $(document.getElementById(\"da941f1b-4135-4bf2-85da-a261d4d6c68d\")).parents('.cell').data().cell;\n      cell.output_area.append_execute_result(NB_LOAD_WARNING)\n    }\n  }\n\n  if (root._bokeh_is_loading === 0) {\n    console.debug(\"Bokeh: BokehJS loaded, going straight to plotting\");\n    run_inline_js();\n  } else {\n    load_libs(css_urls, js_urls, function() {\n      console.debug(\"Bokeh: BokehJS plotting callback run at\", now());\n      run_inline_js();\n    });\n  }\n}(window));",
      "application/vnd.bokehjs_load.v0+json": ""
     },
     "metadata": {},
     "output_type": "display_data"
    }
   ],
   "source": [
    "import racism_latextgan_evaluation as eval"
   ]
  },
  {
   "cell_type": "code",
   "execution_count": 28,
   "metadata": {
    "colab": {
     "base_uri": "https://localhost:8080/"
    },
    "executionInfo": {
     "elapsed": 27897,
     "status": "ok",
     "timestamp": 1746970000836,
     "user": {
      "displayName": "Ken Raymond",
      "userId": "11078504254932186434"
     },
     "user_tz": -120
    },
    "id": "XzVuzVP0X8LM",
    "outputId": "8eb3b91e-f6f3-473e-ec8c-6c2572e1b223"
   },
   "outputs": [
    {
     "name": "stdout",
     "output_type": "stream",
     "text": [
      "\n",
      "islam is a pile of manure for murder unbelievers . it has zero room for propaganda . <End>\n",
      "\n",
      "islam is a pile of hatred murder bigotry sexism . islam is a cult . <End>\n",
      "\n",
      "isis practices slavery and rape mohamed practiced slavery and rape . <End>\n",
      "\n",
      "and if someone risks the world to be an excuse . islam is not a race and incitement and murder . <End>\n",
      "\n",
      "islam is a pile of manure . if you cannot win for a country on the world . <End>\n",
      "\n",
      "and the quran is full of hatred and murder hatred and bigotry . <End>\n",
      "\n",
      "islam is a strong supporter of murdering non muslims . isis is a threat . <End>\n",
      "\n",
      "islam is a pile of hatred murder bigotry sexism . islam is a cult . <End>\n",
      "\n",
      "islam is a pile of manure . if you cannot win <num> on the barbarity of islam . <End>\n",
      "\n",
      "and muslims are expected to fear their religion . but is not accepted in islam . it is a disgusting of hate <End>\n",
      "\n",
      "isis beheads people because mohammed beheaded <num> jews in one day . <End>\n",
      "\n",
      "islam is a pile of hatred murder bigotry sexism and sexism is islam . <End>\n",
      "\n",
      "isis practices slavery and rape mohamed practiced slavery and rape . <End>\n",
      "\n",
      "islam is a strong supporter of murdering non muslims . isis is a threat of non . <End>\n",
      "\n",
      "and muslims are expected to fear their religion . but is not accepted in islam . it is a disgusting of hate . <End>\n",
      "\n",
      "islam declared war on all humanity <num> years ago . and denying it is simply to return the favor <End>\n",
      "\n",
      "and what is the difference between what the muslims want to destroy the jews and christians . <End>\n",
      "\n",
      "objecting to this is what the pc morons of salon call racism . <End>\n",
      "\n",
      "isis practices slavery and rape mohamed practiced slavery and rape . <End>\n",
      "\n",
      "islam is a strong supporter of murdering non muslims . isis is a strong supporter of murdering non . <End>\n",
      "\n",
      "islam is a worldwide mega disaster . islam has no spirituality . it has zero to the world to be a good . <End>\n",
      "\n",
      "islam is a pile of manure for murder unbelievers . it has zero room for mankind . <End>\n",
      "\n",
      "islam is a pile of manure for murder unbelievers . it has zero room for mankind . <End>\n",
      "\n",
      "islam is a pile of manure for murder unbelievers . isis makes your prophet ! . <End>\n",
      "\n",
      "and if someone risks the world to be a muslim . but is not a race in a muslim persecution of non believers <End>\n",
      "\n",
      "islam is a pile of manure and hatred murder bigotry and sexism for islam is rational . <End>\n",
      "\n",
      "islam is a pile of manure for human human human human human human human human expression . <End>\n",
      "\n",
      "and if someone risks the world is the muslims . the only of the land stolen from the land . <End>\n",
      "\n",
      "islam is a strong supporter of murdering non muslims . isis is a strong supporter of non <End>\n",
      "\n",
      "and the quran is that islam declared war on all humanity <num> years . <End>\n",
      "\n",
      "but islam puts out the light and life life must be reformed . <End>\n",
      "\n",
      "islam is a worldwide mega disaster . islam has been no freedom . but the only thing to be the center to obey . <End>\n",
      "\n",
      "islam is a pile of manure and hatred murder bigotry and sexism for islam is rational . <End>\n",
      "\n",
      "and historians is not not even islam . most muslims are murdering christians and hindus for blasphemy . <End>\n",
      "\n",
      "no idiot zionism is a muslim terrorist . they are not have done for <num> years . the gift of their prophet mohammed . <End>\n",
      "\n",
      "and if someone risks the world to save them to stay . the quran and hadiths are exactly to be a . <End>\n",
      "\n",
      "no the quran is full of hatred and murder and murder imperialism . <End>\n",
      "\n",
      "islam is a pile of hatred murder bigotry sexism and sexism is islam . <End>\n",
      "\n",
      "islam is a religion of hatred murder bigotry and sexism . islam is a religion of hatred and murder . <End>\n",
      "\n",
      "no idiot zionism is the determination of jews in christians and christians . muslims have exterminated for blasphemy <End>\n",
      "\n",
      "and there is no difference between what the majority of muslims and murder people who cares <End>\n",
      "\n",
      "and we get to get the muslims to be the same of a certain of the quran and hadiths . <End>\n",
      "\n",
      "islam is a pile of manure and hatred murder bigotry sexism and islam is rational . <End>\n",
      "\n",
      "islam is a strong supporter of murdering non muslims . isis is a threat . <End>\n",
      "\n",
      "but islam keeps about forcing to to the world to the letter . <End>\n",
      "\n",
      "islam is a pile of manure and murder unbelievers . there is no such thing . <End>\n",
      "\n",
      "islam is a worldwide mega disaster . islam has been no freedom . but the only thing to be the center to obey . <End>\n",
      "\n",
      "and historians were not nomads . islam . the only are always close in their terrorists . <End>\n",
      "\n",
      "islam is a strong supporter of murdering non muslims . isis is a strong supporter of non <End>\n",
      "\n",
      "islam is a pile of manure for murder unbelievers . isis makes your prophet ! . <End>\n",
      "\n",
      "\n",
      "Average length of generated tweets: 18.1 tokens\n",
      "\n"
     ]
    }
   ],
   "source": [
    "eval.tweet_generator(generator=LaTextGAN_Generator, autoencoder=TwitterAE, word2vec_model=model, num_tweets=50)"
   ]
  },
  {
   "cell_type": "code",
   "execution_count": 29,
   "metadata": {
    "colab": {
     "base_uri": "https://localhost:8080/"
    },
    "executionInfo": {
     "elapsed": 290584,
     "status": "ok",
     "timestamp": 1746970299514,
     "user": {
      "displayName": "Ken Raymond",
      "userId": "11078504254932186434"
     },
     "user_tz": -120
    },
    "id": "pDArZzQbGkW7",
    "outputId": "8aed6f55-82ea-4936-f079-ea02220458d5"
   },
   "outputs": [
    {
     "data": {
      "text/plain": [
       "0.7231097589413225"
      ]
     },
     "execution_count": 29,
     "metadata": {},
     "output_type": "execute_result"
    }
   ],
   "source": [
    "eval.bleu4_score(generator=LaTextGAN_Generator, autoencoder=TwitterAE, word2vec_model=model, reference_data=train_data, num_tweets=500)"
   ]
  },
  {
   "cell_type": "code",
   "execution_count": null,
   "metadata": {
    "id": "kV30zQNdML9E"
   },
   "outputs": [],
   "source": [
    "#LaTextGAN_Generator.save_weights(f\"path/racism_LaTextGAN.weights.h5\")"
   ]
  },
  {
   "cell_type": "code",
   "execution_count": null,
   "metadata": {
    "id": "2-Es9kxCMnEO"
   },
   "outputs": [],
   "source": [
    "latent_dim = 100\n",
    "# dummy input for the generator\n",
    "dummy_input = tf.random.normal((1, latent_dim))\n",
    "_ = LaTextGAN_Generator(dummy_input, training=False)\n",
    "\n",
    "# load weights\n",
    "LaTextGAN_Generator.load_weights(\"path/GAN_Weights/racism_LaTextGAN.weights.h5\")"
   ]
  },
  {
   "cell_type": "code",
   "execution_count": 32,
   "metadata": {
    "colab": {
     "base_uri": "https://localhost:8080/"
    },
    "executionInfo": {
     "elapsed": 9168,
     "status": "ok",
     "timestamp": 1745874292305,
     "user": {
      "displayName": "Ken Raymond",
      "userId": "11078504254932186434"
     },
     "user_tz": -120
    },
    "id": "ln4kEbhFNk5n",
    "outputId": "b923992e-0555-49dd-af6f-816c93315f3a"
   },
   "outputs": [
    {
     "name": "stdout",
     "output_type": "stream",
     "text": [
      "\n",
      "and if someone risks the world knows that the muslims have been exterminating jews and christians in their prophet . <End>\n",
      "\n",
      "islam is a strong supporter of murdering non muslims . isis is a strong supporter of non . <End>\n",
      "\n",
      "and if someone risks the world to save them to stay a mass grave and then will be a muslim . <End>\n",
      "\n",
      "and if someone risks the world knows that the muslims have been exterminating jews and christians in their . <End>\n",
      "\n",
      "islam is a pile of manure for human human . human through violence against minorities . <End>\n",
      "\n",
      "\n",
      "Average length of generated tweets: 19.8 tokens\n",
      "\n"
     ]
    }
   ],
   "source": [
    "eval.tweet_generator(generator=LaTextGAN_Generator, autoencoder=TwitterAE, word2vec_model=model, num_tweets=5)"
   ]
  },
  {
   "cell_type": "code",
   "execution_count": null,
   "metadata": {},
   "outputs": [],
   "source": [
    "def tweet_generator(generator, autoencoder, model, target_num: int = 1500, label: str = None, oversampling_factor: int = 10):\n",
    "    \"\"\"\n",
    "    Generate a target number of unique synthetic tweets using a GAN and Autoencoder.\n",
    "\n",
    "    Args:\n",
    "        generator (tf.keras.Model): The trained generator model.\n",
    "        autoencoder (object): Autoencoder with a Decoder.inference_mode method.\n",
    "        model (gensim KeyedVectors): Pretrained word2vec model (for index_to_key).\n",
    "        target_num (int): Number of unique tweets to generate.\n",
    "        label (str, optional): Label to assign to the generated tweets.\n",
    "        oversampling_factor (int): How much to oversample at each iteration to reach uniqueness.\n",
    "\n",
    "    Returns:\n",
    "        pd.DataFrame: DataFrame with columns ['text'] or ['text', 'label'].\n",
    "    \"\"\"\n",
    "    unique_tweets = set()\n",
    "    total_tokens = 0\n",
    "\n",
    "    pbar = tqdm(total=target_num, desc=\"Collecting unique tweets\")\n",
    "\n",
    "    while len(unique_tweets) < target_num:\n",
    "        num_to_generate = (target_num - len(unique_tweets)) * oversampling_factor\n",
    "        noise = tf.random.normal([num_to_generate, 100])\n",
    "        fake_states = generator(noise)\n",
    "\n",
    "        for i in range(num_to_generate):\n",
    "            decoded_indices = autoencoder.Decoder.inference_mode(states=tf.expand_dims(fake_states[i], 0), training=False)\n",
    "            tokens = [model.index_to_key[i.numpy()[0] - 1] for i in decoded_indices if i.numpy()[0] != 0]\n",
    "            tweet = ' '.join(tokens)\n",
    "            if tweet not in unique_tweets:\n",
    "                unique_tweets.add(tweet)\n",
    "                total_tokens += len(tokens)\n",
    "                pbar.update(1)\n",
    "                if len(unique_tweets) == target_num:\n",
    "                    break\n",
    "\n",
    "    pbar.close()\n",
    "    df = pd.DataFrame({'text': list(unique_tweets)})\n",
    "    if label:\n",
    "        df['label'] = label\n",
    "\n",
    "    avg_len = total_tokens / target_num\n",
    "    print(f\"Generated {target_num} unique tweets. Average length: {avg_len:.2f} tokens.\")\n",
    "\n",
    "    return df"
   ]
  },
  {
   "cell_type": "code",
   "execution_count": 40,
   "metadata": {},
   "outputs": [
    {
     "name": "stderr",
     "output_type": "stream",
     "text": [
      "Collecting unique tweets: 100%|██████████| 1500/1500 [2:49:48<00:00,  6.79s/it]  "
     ]
    },
    {
     "name": "stdout",
     "output_type": "stream",
     "text": [
      "Generated 1500 unique tweets. Average length: 19.77 tokens.\n"
     ]
    },
    {
     "name": "stderr",
     "output_type": "stream",
     "text": [
      "\n"
     ]
    }
   ],
   "source": [
    "synthetic_df = tweet_generator(generator=LaTextGAN_Generator, autoencoder=TwitterAE, model=model, target_num=1500)"
   ]
  },
  {
   "cell_type": "code",
   "execution_count": null,
   "metadata": {},
   "outputs": [
    {
     "name": "stdout",
     "output_type": "stream",
     "text": [
      "Unique tweets in synthetic_df: 1500\n"
     ]
    }
   ],
   "source": [
    "# It took 2h50\n",
    "# print unique len of synthetic_df\n",
    "print(f\"Unique tweets in synthetic_df: {len(synthetic_df['text'].unique())}\")"
   ]
  },
  {
   "cell_type": "code",
   "execution_count": null,
   "metadata": {},
   "outputs": [],
   "source": [
    "synthetic_df.to_pickle(\"path/Dataset/racism_gan_tweets.pkl\")"
   ]
  },
  {
   "cell_type": "code",
   "execution_count": null,
   "metadata": {},
   "outputs": [],
   "source": [
    "def plot_tsne_only(generator, autoencoder, train_dataset: tf.data.Dataset, name: str):\n",
    "\n",
    "    # Encode real tweets (Encoder)\n",
    "    real_embeddings = [autoencoder.Encoder(tweet, training=False) for tweet, _, _ in train_dataset.take(500)]\n",
    "    real_embeddings = [vec.numpy() for batch in real_embeddings for vec in batch]\n",
    "\n",
    "    # Generate fake tweets (Generator)\n",
    "    fake_embeddings = []\n",
    "    for _ in range(500):\n",
    "        noise = tf.random.normal([50, 100])\n",
    "        fake_batch = generator(noise)\n",
    "        fake_embeddings.extend(fake_batch.numpy())\n",
    "\n",
    "    # Apply PCA\n",
    "    pca = PCA(n_components=50, svd_solver=\"randomized\", random_state=0)\n",
    "    real_pca = pca.fit_transform(real_embeddings)\n",
    "    fake_pca = pca.fit_transform(fake_embeddings)\n",
    "\n",
    "    # Apply t-SNE\n",
    "    tsne = TSNE(n_components=2, perplexity=30., random_state=0)\n",
    "    tsne_real = tsne.fit_transform(real_pca)\n",
    "    tsne_fake = tsne.fit_transform(fake_pca)\n",
    "\n",
    "    # Merge and label\n",
    "    x = np.concatenate((tsne_real[:, 0], tsne_fake[:, 0]))\n",
    "    y = np.concatenate((tsne_real[:, 1], tsne_fake[:, 1]))\n",
    "    labels = [\"Encoder\"] * len(tsne_real) + [\"Generator\"] * len(tsne_fake)\n",
    "\n",
    "    # Plot\n",
    "    p = figure(tools=\"pan,wheel_zoom,reset,save\",\n",
    "               toolbar_location=\"above\",\n",
    "               title=\"2D t-SNE Latent Embedding\")\n",
    "    p.title.text_font_size = \"20px\"\n",
    "    p.add_layout(Title(text=name, text_font_size=\"12px\"), 'above')\n",
    "\n",
    "    source = ColumnDataSource(data=dict(x=x, y=y, label=labels))\n",
    "\n",
    "    p.scatter(x=\"x\", y=\"y\", size=3, source=source,\n",
    "              fill_color=factor_cmap('label', palette=Colorblind3, factors=[\"Encoder\", \"Generator\"]),\n",
    "              fill_alpha=0.4, line_color=None, legend_field='label')\n",
    "\n",
    "    p.legend.location = \"top_left\"\n",
    "    p.legend.click_policy = \"hide\"\n",
    "    show(p)\n"
   ]
  },
  {
   "cell_type": "code",
   "execution_count": null,
   "metadata": {},
   "outputs": [],
   "source": [
    "plot_tsne_only(generator=LaTextGAN_Generator, autoencoder=TwitterAE, train_dataset=train_dataset, name=\"LaTextGAN vs Encoder\")"
   ]
  }
 ],
 "metadata": {
  "accelerator": "GPU",
  "colab": {
   "authorship_tag": "ABX9TyPDGwr3/uS9fC5pPG7YyKB9",
   "collapsed_sections": [
    "t0laL0ZAQTju",
    "MjZoZwFqF32F"
   ],
   "gpuType": "T4",
   "provenance": []
  },
  "kernelspec": {
   "display_name": "Python 3",
   "name": "python3"
  },
  "language_info": {
   "codemirror_mode": {
    "name": "ipython",
    "version": 3
   },
   "file_extension": ".py",
   "mimetype": "text/x-python",
   "name": "python",
   "nbconvert_exporter": "python",
   "pygments_lexer": "ipython3",
   "version": "3.12.7"
  }
 },
 "nbformat": 4,
 "nbformat_minor": 0
}
